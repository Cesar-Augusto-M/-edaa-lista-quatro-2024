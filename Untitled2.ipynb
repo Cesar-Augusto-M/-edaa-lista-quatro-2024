{
  "nbformat": 4,
  "nbformat_minor": 0,
  "metadata": {
    "colab": {
      "provenance": [],
      "authorship_tag": "ABX9TyN9MgjIvAhi++LRDzKYVkh7",
      "include_colab_link": true
    },
    "kernelspec": {
      "name": "python3",
      "display_name": "Python 3"
    },
    "language_info": {
      "name": "python"
    }
  },
  "cells": [
    {
      "cell_type": "markdown",
      "metadata": {
        "id": "view-in-github",
        "colab_type": "text"
      },
      "source": [
        "<a href=\"https://colab.research.google.com/github/Cesar-Augusto-M/-edaa-lista-quatro-2024/blob/main/Untitled2.ipynb\" target=\"_parent\"><img src=\"https://colab.research.google.com/assets/colab-badge.svg\" alt=\"Open In Colab\"/></a>"
      ]
    },
    {
      "cell_type": "code",
      "execution_count": 6,
      "metadata": {
        "colab": {
          "base_uri": "https://localhost:8080/"
        },
        "id": "D5rQwv2FmM1M",
        "outputId": "dbce63a3-2193-42c6-e2e0-17e46f48508d"
      },
      "outputs": [
        {
          "output_type": "stream",
          "name": "stdout",
          "text": [
            "C\n",
            "é\n",
            "s\n",
            "a\n",
            "r\n",
            " \n",
            "A\n",
            "u\n",
            "g\n",
            "u\n",
            "s\n",
            "t\n",
            "o\n"
          ]
        }
      ],
      "source": [
        "# 1) Imprimir seu nome com uma letra por linha\n",
        "def imprimir_nome_por_linha(nome):\n",
        "    for letra in nome:\n",
        "        print(letra)\n",
        "\n",
        "# Teste\n",
        "imprimir_nome_por_linha(\"César Augusto\")\n"
      ]
    },
    {
      "cell_type": "code",
      "source": [
        "# 2) Função que conta o número de vogais em uma string\n",
        "def contar_vogais(texto):\n",
        "    vogais = \"aeiouAEIOU\"\n",
        "    contagem = sum(1 for letra in texto if letra in vogais)\n",
        "    return contagem\n",
        "\n",
        "# Teste\n",
        "print(contar_vogais(\"Ciência de Dados\"))"
      ],
      "metadata": {
        "colab": {
          "base_uri": "https://localhost:8080/"
        },
        "id": "w2tx6MosnZ3S",
        "outputId": "8743ebc6-6da4-4a33-af47-42f80e40ac56"
      },
      "execution_count": 15,
      "outputs": [
        {
          "output_type": "stream",
          "name": "stdout",
          "text": [
            "6\n"
          ]
        }
      ]
    },
    {
      "cell_type": "code",
      "source": [
        "# 3) Desenha uma moldura com '+' , '−' e '|'\n",
        "def desenha_moldura(linhas=1, colunas=1):\n",
        "    linhas = max(1, min(linhas, 20))\n",
        "    colunas = max(1, min(colunas, 20))\n",
        "\n",
        "    print(\"+\" + \"-\" * (colunas - 2) + \"+\")\n",
        "    for _ in range(linhas - 2):\n",
        "        print(\"|\" + \" \" * (colunas - 2) + \"|\")\n",
        "    print(\"+\" + \"-\" * (colunas - 2) + \"+\")\n",
        "\n",
        "# Teste\n",
        "desenha_moldura(5, 10)\n"
      ],
      "metadata": {
        "colab": {
          "base_uri": "https://localhost:8080/"
        },
        "id": "AfB5bygMpbAa",
        "outputId": "634a099d-6290-4c75-c225-0fdf21232b09"
      },
      "execution_count": 16,
      "outputs": [
        {
          "output_type": "stream",
          "name": "stdout",
          "text": [
            "+--------+\n",
            "|        |\n",
            "|        |\n",
            "|        |\n",
            "+--------+\n"
          ]
        }
      ]
    },
    {
      "cell_type": "code",
      "source": [
        " #4) Função que retorna o resto da divisão\n",
        "def resto_divisao(a, b):\n",
        "    return a % b\n",
        "\n",
        "# Teste\n",
        "print(resto_divisao(10, 3))"
      ],
      "metadata": {
        "colab": {
          "base_uri": "https://localhost:8080/"
        },
        "id": "Ek9iJl33pgmn",
        "outputId": "524c5bb1-e1bd-4deb-bc6d-ea01d1801f71"
      },
      "execution_count": 17,
      "outputs": [
        {
          "output_type": "stream",
          "name": "stdout",
          "text": [
            "1\n"
          ]
        }
      ]
    },
    {
      "cell_type": "code",
      "source": [
        "# 5) Calcula o preço do aluguel de um carro\n",
        "def calcula_preco_aluguel(km_percorridos, dias_alugados):\n",
        "    preco = (dias_alugados * 60) + (km_percorridos * 0.15)\n",
        "    return preco\n",
        "\n",
        "# Teste\n",
        "print(calcula_preco_aluguel(100, 3))"
      ],
      "metadata": {
        "colab": {
          "base_uri": "https://localhost:8080/"
        },
        "id": "Evu5W3KMpqFG",
        "outputId": "591799ab-c397-4828-bb2c-0ccbb8478066"
      },
      "execution_count": 18,
      "outputs": [
        {
          "output_type": "stream",
          "name": "stdout",
          "text": [
            "195.0\n"
          ]
        }
      ]
    },
    {
      "cell_type": "code",
      "source": [
        "# 6) Calcula a perda de dias de vida de um fumante\n",
        "def perda_vida_fumante(cigarros_por_dia, anos_fumando):\n",
        "    minutos_perdidos = cigarros_por_dia * anos_fumando * 365 * 10\n",
        "    dias_perdidos = minutos_perdidos / (24 * 60)\n",
        "    return round(dias_perdidos, 2)\n",
        "\n",
        "# Teste\n",
        "print(perda_vida_fumante(10, 2))"
      ],
      "metadata": {
        "colab": {
          "base_uri": "https://localhost:8080/"
        },
        "id": "Lnhu6PDmp3Uk",
        "outputId": "8631dbde-2f53-40ff-da90-9b69b83a6136"
      },
      "execution_count": 19,
      "outputs": [
        {
          "output_type": "stream",
          "name": "stdout",
          "text": [
            "50.69\n"
          ]
        }
      ]
    },
    {
      "cell_type": "code",
      "source": [
        "# 7) Validar e corrigir número de telefone\n",
        "def corrigir_telefone(numero):\n",
        "    numero = numero.replace(\"-\", \"\")\n",
        "    if len(numero) == 7:\n",
        "        numero = \"3\" + numero\n",
        "    return numero[:4] + \"-\" + numero[4:]\n",
        "\n",
        "# Teste\n",
        "print(corrigir_telefone(\"123-4567\"))\n",
        "print(corrigir_telefone(\"1234567\"))\n"
      ],
      "metadata": {
        "colab": {
          "base_uri": "https://localhost:8080/"
        },
        "id": "ynKD9zBcp8Mw",
        "outputId": "a34d79ab-8ac6-437d-bb60-8ae89c7efe22"
      },
      "execution_count": 20,
      "outputs": [
        {
          "output_type": "stream",
          "name": "stdout",
          "text": [
            "3123-4567\n",
            "3123-4567\n"
          ]
        }
      ]
    },
    {
      "cell_type": "code",
      "source": [
        "# 8) Função Calculadora que resolve uma expressão matemática\n",
        "def calculadora(expressao):\n",
        "    try:\n",
        "        resultado = eval(expressao)\n",
        "        return resultado\n",
        "    except Exception as e:\n",
        "        return f\"Erro: {e}\"\n",
        "\n",
        "# Teste\n",
        "print(calculadora(\"4+5\"))"
      ],
      "metadata": {
        "colab": {
          "base_uri": "https://localhost:8080/"
        },
        "id": "dGwo6szDqCAl",
        "outputId": "8327b5ae-73dd-4e6a-9318-c8e26da84419"
      },
      "execution_count": 21,
      "outputs": [
        {
          "output_type": "stream",
          "name": "stdout",
          "text": [
            "9\n"
          ]
        }
      ]
    }
  ]
}